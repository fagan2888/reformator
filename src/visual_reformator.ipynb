{
 "cells": [
  {
   "cell_type": "markdown",
   "metadata": {
    "collapsed": true
   },
   "source": [
    "Guillaume Chaslot <guillaume.chaslot@data.gouv.fr>\n",
    "\n",
    "# Tax Legislation Reform\n",
    "\n",
    "The tax/benefit legislation is complex.\n",
    "\n",
    "These tool help make reform that can simplify the tax benefit system.\n",
    "\n",
    "\n",
    "### How it works:\n",
    "\n",
    "1. Define your concepts (e.g., 'nb_enfants', 'age', 'parent isolé') and budget (e.g.: cost less than 2 millions euros)\n",
    "2. The machine learning algorithm helps you adjust the parameters of your reform to approximate the current legislation and fit your budget\n",
    "3. From the biggest discrepencies with the current legislation, you can improve your concepts (or the legislation)\n",
    "4. Repeat until you reach a legislation that matches your own goals. The algorithm takes care of minimizing your budget and maximizing the similarity to current legislation.\n",
    "\n",
    "### Beta version limitations:\n",
    "\n",
    "For this test, we only take a population of people from all ages, who have 0 to 5 children, no salary, married, veuf, paces, divorces or celibataires, and simulate the \"aides sociales\"\n",
    "\n",
    "### Current Results:\n",
    "\n",
    "Within a few minutes, we got a tax reform for \"aides sociales\" for people with no salary that is:\n",
    "\n",
    "* 6 lines long \n",
    "* similar to the existing in average at more than 95%\n"
   ]
  },
  {
   "cell_type": "code",
   "execution_count": 1,
   "metadata": {
    "collapsed": false
   },
   "outputs": [
    {
     "name": "stdout",
     "output_type": "stream",
     "text": [
      "Please provide one or several populations.\n"
     ]
    }
   ],
   "source": [
    "from utils import show_histogram, percent_diff, scatter_plot, multi_scatter\n",
    "from econometrics import gini, draw_ginis\n",
    "\n",
    "import matplotlib.pyplot as plt\n",
    "\n",
    "import pandas as pd\n",
    "import numpy as np\n",
    "import random\n",
    "import qgrid\n",
    "import copy\n",
    "\n",
    "from population_manager import PopulationManager\n",
    "from reform_optimizer import ReformOptimizer\n",
    "\n",
    "qgrid.nbinstall(overwrite=True)\n",
    "\n",
    "%matplotlib inline\n",
    "\n",
    "# TODO: move that in the reformator\n",
    "def show_last_reform_results(revdisp, simulated_reform):\n",
    "    if cost > 0:\n",
    "        display_cost_name = 'Total Cost in Euros'\n",
    "        display_cost_value = int(cost)\n",
    "    else:\n",
    "        display_cost_name = 'Total Savings in Euros'\n",
    "        display_cost_value = -int(cost)\n",
    "\n",
    "    old_gini = gini(revdisp)\n",
    "    new_gini = gini(simulated_reform)\n",
    "\n",
    "    result_frame = pd.DataFrame({\n",
    "        display_cost_name: [display_cost_value],\n",
    "        'Average change / family / month in Euros' : [int(error) / 12],\n",
    "        'People losing money' : str(100 * pissed) + '%',\n",
    "        'Old Gini' : old_gini,\n",
    "        'New Gini' : new_gini,\n",
    "        })\n",
    "\n",
    "    result_frame.set_index(display_cost_name, inplace=True)\n",
    "    qgrid.show_grid(result_frame)\n"
   ]
  },
  {
   "cell_type": "markdown",
   "metadata": {},
   "source": [
    "# Which population do we want to use?\n",
    "\n",
    "For instance we want to use the 'revdisp' computed by OpenFisca, on a population that represents 0.21% of the french population."
   ]
  },
  {
   "cell_type": "code",
   "execution_count": 2,
   "metadata": {
    "collapsed": false
   },
   "outputs": [],
   "source": [
    "pop_manager = PopulationManager(openfisca_results_filename='1aj-1bj-f-2000',\n",
    "                                variables_loaded=['revdisp'],\n",
    "                                echantillon=0.0021)\n",
    "\n",
    "reformator = ReformOptimizer(population_manager=pop_manager,\n",
    "                             target_variable='revdisp',\n",
    "                             taxable_variable='taxable_variable')\n"
   ]
  },
  {
   "cell_type": "markdown",
   "metadata": {},
   "source": [
    "# What are the concept you want to use for your reform?\n",
    "\n",
    "You can add concepts like the number of children, age, family situation, etc... \n",
    "\n",
    "The input population is in the CERFA \"declaration des revenus\" format."
   ]
  },
  {
   "cell_type": "code",
   "execution_count": 3,
   "metadata": {
    "collapsed": false,
    "scrolled": true
   },
   "outputs": [
    {
     "name": "stdout",
     "output_type": "stream",
     "text": [
      "Echantillon of 2863 people, in percent of french population for similar revenu: 0.009543333333333334%\n"
     ]
    }
   ],
   "source": [
    "\n",
    "def age_dec_1(family):\n",
    "    return age_from_box(family, '0DA')\n",
    "\n",
    "def age_dec_2(family):\n",
    "    if '0DB' in family:\n",
    "        return age_from_box(family, '0DB')\n",
    "    return None\n",
    "\n",
    "def if_married(family):\n",
    "    return 'M' in family\n",
    "\n",
    "def if_pacse(family):\n",
    "    return 'O' in family\n",
    "\n",
    "def if_veuf(family):\n",
    "    return 'V' in family\n",
    "\n",
    "def if_divorce(family):\n",
    "    return 'D' in family\n",
    "\n",
    "def if_two_people(family):\n",
    "    return '0DB' in family\n",
    "\n",
    "def revenu_1(family):\n",
    "    return family['1AJ']\n",
    "\n",
    "def taxable_variable(family):\n",
    "    if '1BJ' in family:\n",
    "        return family['1AJ'] + family['1BJ']\n",
    "    else:\n",
    "        return family['1AJ']\n",
    "\n",
    "def revenu_2(family):\n",
    "    if '1BJ' in family:\n",
    "        return family['1BJ']\n",
    "    return False\n",
    "    \n",
    "def age_from_box(family, birthdate_box):\n",
    "    return 2014 - family.get(birthdate_box, 2014)\n",
    "\n",
    "def if_both_declarant_parent_below_24(family):\n",
    "    if age_dec_1(family) >= 24:\n",
    "        return False\n",
    "    if '0DB' in family and age_dec_2(family) >= 24:\n",
    "        return False\n",
    "    if 'F' not in family or family['F'] == 0:\n",
    "        return False\n",
    "    return True\n",
    "\n",
    "def per_child(family):\n",
    "    if 'F' in family:\n",
    "        return family['F']\n",
    "    else:\n",
    "        return None\n",
    "\n",
    "def per_child_parent_isole(family):\n",
    "    if '0DB' in family:\n",
    "        return None\n",
    "    if 'F' in family:\n",
    "        return family['F']\n",
    "    else:\n",
    "        return None\n",
    "\n",
    "def if_parent_isole_moins_20k(family):\n",
    "    return 'F' in family and family['F'] >= 1 and ('0DB' not in family) and family['1AJ'] < 20000\n",
    "\n",
    "def if_enfant_unique(family):\n",
    "    return 'F' in family and family['F'] == 1\n",
    "\n",
    "def if_deux_enfants_ou_plus(family):\n",
    "    return 'F' in family and family['F'] >= 2\n",
    "\n",
    "def per_child_after_2(family):\n",
    "    if 'F' in family and family['F'] >= 2:\n",
    "        return family['F'] - 2\n",
    "    return None\n",
    "\n",
    "def if_declarant_above_65(family):\n",
    "    return age_from_box(family, '0DA') >= 65\n",
    "    \n",
    "def if_codeclarant_above_65(family):\n",
    "    return '0DB' in family and age_from_box(family, '0DB') > 65\n",
    "\n",
    "def per_declarant_above_65(family):\n",
    "    return int(age_from_box(family, '0DB') >= 65) + int(age_from_box(family, '0DA') >= 65)\n",
    "\n",
    "def per_declarant_above_24(family):\n",
    "    return int(age_from_box(family, '0DB') >= 24) + int(age_from_box(family, '0DA') >= 24)\n",
    "\n",
    "def if_one_declarant_above_24(family):\n",
    "    return (age_from_box(family, '0DA') >= 24 or ('0DB' in family and age_from_box(family, '0DB') >= 24))\n",
    "\n",
    "def if_one_declarant_above_24_or_has_children(family):\n",
    "    return (age_from_box(family, '0DA') >= 24 or ('0DB' in family and age_from_box(family, '0DB') >= 24) or \n",
    "           ('F' in family and family['F'] >= 1))\n",
    "\n",
    "def if_earns_10k(family):\n",
    "    return taxable_variable(family) > 10000\n",
    "\n",
    "def if_earns_30k(family):\n",
    "    return taxable_variable(family) > 30000\n",
    "\n",
    "def if_earns_40k(family):\n",
    "    return taxable_variable(family) > 40000\n",
    "\n",
    "def base(family):\n",
    "    return True\n",
    "\n",
    "pop_manager.add_concept('base', base)\n",
    "pop_manager.add_concept('age_dec_1', age_dec_1)\n",
    "pop_manager.add_concept('age_dec_2', age_dec_2)\n",
    "pop_manager.add_concept('taxable_variable', taxable_variable)\n",
    "pop_manager.add_concept('revenu_1', revenu_1)\n",
    "pop_manager.add_concept('revenu_2', revenu_2)\n",
    "pop_manager.add_concept('per_child', per_child)\n",
    "pop_manager.add_concept('per_child_parent_isole', per_child_parent_isole)\n",
    "pop_manager.add_concept('per_declarant_above_24', per_declarant_above_24)\n",
    "pop_manager.add_concept('per_declarant_above_65', per_declarant_above_65)\n",
    "pop_manager.add_concept('per_child_after_2', per_child_after_2)\n",
    "pop_manager.add_concept('if_earns_10k', if_earns_10k)\n",
    "pop_manager.add_concept('if_earns_30k', if_earns_30k)\n",
    "pop_manager.add_concept('if_earns_40k', if_earns_40k)\n",
    "pop_manager.add_concept('if_one_declarant_above_24', if_one_declarant_above_24)\n",
    "pop_manager.add_concept('if_one_declarant_above_24_or_has_children', if_one_declarant_above_24_or_has_children)\n",
    "pop_manager.add_concept('if_both_declarant_parent_below_24', if_both_declarant_parent_below_24)\n",
    "pop_manager.add_concept('if_declarant_above_65', if_declarant_above_65)\n",
    "pop_manager.add_concept('if_codeclarant_above_65', if_codeclarant_above_65)\n",
    "pop_manager.add_concept('if_enfant_unique', if_enfant_unique)\n",
    "pop_manager.add_concept('if_deux_enfants_ou_plus', if_deux_enfants_ou_plus)\n",
    "pop_manager.add_concept('if_two_people', if_two_people)\n",
    "pop_manager.add_concept('if_parent_isole_moins_20k', if_parent_isole_moins_20k)\n",
    "\n",
    "pop_manager.summarize_population_from_cerfa_values()"
   ]
  },
  {
   "cell_type": "markdown",
   "metadata": {},
   "source": [
    "# Plots Revenu disponible before reform"
   ]
  },
  {
   "cell_type": "code",
   "execution_count": 4,
   "metadata": {
    "collapsed": false
   },
   "outputs": [
    {
     "data": {
      "image/png": "[encoded data removed]",
      "text/plain": [
       "<matplotlib.figure.Figure at 0x1153ad050>"
      ]
     },
     "metadata": {},
     "output_type": "display_data"
    }
   ],
   "source": [
    "revdisp = list(family['revdisp'] for family in reformator._population_manager._population)\n",
    "show_histogram(revdisp, 'Distribution of revenu disponible')\n"
   ]
  },
  {
   "cell_type": "markdown",
   "metadata": {},
   "source": [
    "# <font color='red'>Define your reform here!</font>\n"
   ]
  },
  {
   "cell_type": "code",
   "execution_count": 5,
   "metadata": {
    "collapsed": false
   },
   "outputs": [
    {
     "name": "stdout",
     "output_type": "stream",
     "text": [
      "['per_child', 'per_declarant_above_65', 'if_one_declarant_above_24_or_has_children']\n",
      "(4_w,8)-aCMA-ES (mu_w=2.6,w_1=52%) in dimension 5 (seed=625456, Wed Nov 30 15:08:58 2016)\n",
      "Best: avg change per month: 69780 cost: -17513713 M/year and 79% people with lower salary\n",
      "Iterat #Fevals   function value  axis ratio  sigma  min&max std  t[m:s]\n",
      "    1      8 9.820903642613254e+02 1.0e+00 8.76e+03  8e+03  9e+03 0:0.1\n",
      "    2     16 2.963686759456991e+02 1.1e+00 8.99e+03  8e+03  1e+04 0:0.2\n",
      "    3     24 4.115566679951065e+03 1.3e+00 1.08e+04  1e+04  1e+04 0:0.3\n",
      "Best: avg change per month: 40841 cost: -8321259 M/year and 55% people with lower salary\n",
      "Best: avg change per month: 44331 cost: -10708282 M/year and 95% people with lower salary\n",
      "Best: avg change per month: 21122 cost: -5312049 M/year and 97% people with lower salary\n",
      "Best: avg change per month: 12105 cost: -1975325 M/year and 59% people with lower salary\n",
      "Best: avg change per month: 16060 cost: -34068 M/year and 81% people with lower salary\n",
      "Best: avg change per month: 6090 cost: 474326 M/year and 71% people with lower salary\n",
      "Best: avg change per month: 4593 cost: -1148399 M/year and 96% people with lower salary\n",
      "Best: avg change per month: 6793 cost: -298943 M/year and 56% people with lower salary\n",
      "Best: avg change per month: 4425 cost: -211555 M/year and 65% people with lower salary\n",
      "Best: avg change per month: 2091 cost: -412584 M/year and 62% people with lower salary\n",
      "Best: avg change per month: 1697 cost: -276131 M/year and 24% people with lower salary\n",
      "Best: avg change per month: 2616 cost: -582340 M/year and 51% people with lower salary\n",
      "Best: avg change per month: 1267 cost: -2135 M/year and 40% people with lower salary\n",
      "Best: avg change per month: 1825 cost: -7247 M/year and 39% people with lower salary\n",
      "Best: avg change per month: 1287 cost: 32484 M/year and 18% people with lower salary\n",
      "Best: avg change per month: 1332 cost: -66980 M/year and 66% people with lower salary\n",
      "Best: avg change per month: 1715 cost: -226488 M/year and 73% people with lower salary\n",
      "Best: avg change per month: 1552 cost: -51231 M/year and 58% people with lower salary\n",
      "  100    800 5.402338214470602e+01 1.6e+02 3.42e+03  6e+01  5e+03 0:9.9\n",
      "Best: avg change per month: 805 cost: -101648 M/year and 40% people with lower salary\n",
      "Best: avg change per month: 1187 cost: -182701 M/year and 74% people with lower salary\n",
      "Best: avg change per month: 763 cost: -129206 M/year and 78% people with lower salary\n",
      "Best: avg change per month: 433 cost: -18691 M/year and 63% people with lower salary\n",
      "Best: avg change per month: 687 cost: -151171 M/year and 81% people with lower salary\n",
      "Best: avg change per month: 406 cost: 70874 M/year and 15% people with lower salary\n",
      "Best: avg change per month: 111 cost: -10134 M/year and 57% people with lower salary\n",
      "Best: avg change per month: 108 cost: -6316 M/year and 36% people with lower salary\n",
      "Best: avg change per month: 108 cost: -6520 M/year and 36% people with lower salary\n",
      "Best: avg change per month: 108 cost: -6391 M/year and 36% people with lower salary\n",
      "Best: avg change per month: 108 cost: -6330 M/year and 36% people with lower salary\n",
      "Best: avg change per month: 108 cost: -6475 M/year and 36% people with lower salary\n",
      "Best: avg change per month: 108 cost: -6432 M/year and 36% people with lower salary\n",
      "Best: avg change per month: 108 cost: -6393 M/year and 36% people with lower salary\n",
      "  200   1600 3.707916064433838e+00 2.6e+02 3.88e+00  6e-03  9e-01 0:19.9\n",
      "Best: avg change per month: 108 cost: -6471 M/year and 36% people with lower salary\n",
      "Best: avg change per month: 108 cost: -6457 M/year and 36% people with lower salary\n",
      "Best: avg change per month: 108 cost: -6453 M/year and 36% people with lower salary\n",
      "Best: avg change per month: 108 cost: -6451 M/year and 36% people with lower salary\n",
      "Best: avg change per month: 108 cost: -6457 M/year and 36% people with lower salary\n",
      "Best: avg change per month: 108 cost: -6458 M/year and 36% people with lower salary\n",
      "Best: avg change per month: 108 cost: -6458 M/year and 36% people with lower salary\n",
      "Best: avg change per month: 108 cost: -6457 M/year and 36% people with lower salary\n",
      "Best: avg change per month: 108 cost: -6457 M/year and 36% people with lower salary\n",
      "Best: avg change per month: 108 cost: -6457 M/year and 36% people with lower salary\n",
      "Best: avg change per month: 108 cost: -6457 M/year and 36% people with lower salary\n",
      "Best: avg change per month: 108 cost: -6457 M/year and 36% people with lower salary\n",
      "Best: avg change per month: 108 cost: -6457 M/year and 36% people with lower salary\n",
      "Best: avg change per month: 108 cost: -6457 M/year and 36% people with lower salary\n",
      "Best: avg change per month: 108 cost: -6457 M/year and 36% people with lower salary\n",
      "Best: avg change per month: 108 cost: -6457 M/year and 36% people with lower salary\n",
      "Best: avg change per month: 108 cost: -6457 M/year and 36% people with lower salary\n",
      "Best: avg change per month: 108 cost: -6457 M/year and 36% people with lower salary\n",
      "  275   2200 3.707915629782020e+00 2.1e+02 2.77e-03  5e-07  8e-05 0:27.3\n",
      "termination on tolfun=1e-11 (Wed Nov 30 15:09:26 2016)\n",
      "final/bestever f-value = 3.707916e+00 3.707916e+00\n",
      "incumbent solution: [4375.7240802048636, 5242.0818066174506, 2383.1658261081307, 18.573331433543768, -1.4885282379189353]\n",
      "std deviation: [7.7589553887904433e-05, 3.9540502245418022e-05, 7.3714272592501176e-05, 4.9822580848921369e-07, 6.922008761013203e-07]\n"
     ]
    }
   ],
   "source": [
    "simulated_reform, error, cost, final_parameters, pissed  = reformator.suggest_reform(\n",
    "            parameters=[\n",
    "                            'per_child',\n",
    "                            'per_declarant_above_65',\n",
    "                            'if_one_declarant_above_24_or_has_children',\n",
    "                        ],\n",
    "            tax_rate_parameters=[\n",
    "                            'base',\n",
    "                            'per_child',\n",
    "            ],\n",
    "            max_cost=0,\n",
    "            min_saving=0)"
   ]
  },
  {
   "cell_type": "code",
   "execution_count": 6,
   "metadata": {
    "collapsed": false
   },
   "outputs": [],
   "source": [
    "show_last_reform_results(revdisp, simulated_reform)"
   ]
  },
  {
   "cell_type": "code",
   "execution_count": 7,
   "metadata": {
    "collapsed": false
   },
   "outputs": [
    {
     "data": {
      "image/png": "[encoded data removed]",
      "text/plain": [
       "<matplotlib.figure.Figure at 0x115647f10>"
      ]
     },
     "metadata": {},
     "output_type": "display_data"
    }
   ],
   "source": [
    "draw_ginis(revdisp, simulated_reform)"
   ]
  },
  {
   "cell_type": "code",
   "execution_count": 8,
   "metadata": {
    "collapsed": false
   },
   "outputs": [
    {
     "name": "stdout",
     "output_type": "stream",
     "text": [
      "[{'variable': 'per_declarant_above_65', 'type': 'base_revenu', 'value': 4375.7241011821843}, {'variable': 'if_one_declarant_above_24_or_has_children', 'type': 'base_revenu', 'value': 5242.081762554265}, {'variable': 'per_child', 'type': 'base_revenu', 'value': 2383.1659022492108}, {'variable': 'base', 'type': 'tax_rate', 'value': 18.57333094556202}, {'variable': 'per_child', 'type': 'tax_rate', 'value': -1.4885274050617538}]\n"
     ]
    }
   ],
   "source": [
    "print repr(final_parameters)\n",
    "def show_coefficients(final_parameters, current_type):\n",
    "    coefficients = []\n",
    "    variables = []\n",
    "    for parameter in final_parameters:\n",
    "        if parameter['type'] == current_type:\n",
    "            coefficients.append(parameter['value'])\n",
    "            variables.append(parameter['variable'])\n",
    "\n",
    "    result_frame = pd.DataFrame({'Variables': variables, current_type + ' coef': coefficients})\n",
    "    result_frame.set_index('Variables', inplace=True)\n",
    "    qgrid.show_grid(result_frame)\n",
    "\n",
    "show_coefficients(final_parameters, 'base_revenu')\n",
    "show_coefficients(final_parameters, 'tax_rate')\n",
    "# show_coefficients(final_parameters, 'tax_threshold')"
   ]
  },
  {
   "cell_type": "code",
   "execution_count": 11,
   "metadata": {
    "collapsed": false
   },
   "outputs": [],
   "source": [
    "new_pop = copy.deepcopy(reformator._population_manager._population)\n",
    "\n",
    "for i in range(len(new_pop)):\n",
    "    new_pop[i]['reform'] = simulated_reform[i] \n",
    "\n",
    "def plot_for_population(pop):\n",
    "    revenu_imposable = list(family['taxable_variable'] for family in pop)\n",
    "    revdisp = list(family['revdisp'] for family in pop)\n",
    "    reform = list(family['reform'] for family in pop)\n",
    "\n",
    "    multi_scatter('Revenu disponible for different people before / after reforme', 'Revenu initial', 'Revenu disponible', [\n",
    "                  {'x':revenu_imposable, 'y':reform, 'label':'Reform', 'color':'blue'},\n",
    "                  {'x':revenu_imposable, 'y':revdisp, 'label':'Original', 'color':'red'},\n",
    "              ])"
   ]
  },
  {
   "cell_type": "code",
   "execution_count": null,
   "metadata": {
    "collapsed": false
   },
   "outputs": [],
   "source": [
    "un_enfant_pop = list(filter(lambda x: x.get('per_child', 0) == 0\n",
    "                                  and x.get('age_dec_1', 0) < 65\n",
    "                                  and x.get('age_dec_2', 0) < 65,\n",
    "                            new_pop))\n",
    "\n",
    "plot_for_population(un_enfant_pop)"
   ]
  },
  {
   "cell_type": "code",
   "execution_count": null,
   "metadata": {
    "collapsed": false
   },
   "outputs": [],
   "source": [
    "show_last_reform_results(revdisp, simulated_reform)"
   ]
  },
  {
   "cell_type": "code",
   "execution_count": null,
   "metadata": {
    "collapsed": false
   },
   "outputs": [],
   "source": [
    "# simulated_reform_tree, error_tree, cost_tree, final_parameters_tree  = reformator.suggest_reform_tree(\n",
    "#             parameters=[\n",
    "#                             'per_child',\n",
    "#                             'if_one_declarant_above_24_or_has_children',\n",
    "#                             'age_dec_1',\n",
    "#                             'age_dec_2'\n",
    "#                         ],\n",
    "#                             max_cost=0,\n",
    "#                             min_saving=0,\n",
    "#                             image_file='./enfants_age',\n",
    "#                             max_depth=5,\n",
    "#                             min_samples_leaf=20\n",
    "#                         )"
   ]
  },
  {
   "cell_type": "markdown",
   "metadata": {},
   "source": [
    "# <font color=\"darkgreen\">Reform results</font>"
   ]
  },
  {
   "cell_type": "code",
   "execution_count": null,
   "metadata": {
    "collapsed": false
   },
   "outputs": [],
   "source": [
    "# show_last_reform_results()\n",
    "# from IPython.display import Image\n",
    "# Image(filename='./enfants_age.png')"
   ]
  },
  {
   "cell_type": "markdown",
   "metadata": {},
   "source": [
    "# Plots revenu disponible after reform"
   ]
  },
  {
   "cell_type": "code",
   "execution_count": null,
   "metadata": {
    "collapsed": false
   },
   "outputs": [],
   "source": [
    "xmin = 0\n",
    "xmax = 60000\n",
    "nb_buckets = 35\n",
    "\n",
    "bins = np.linspace(xmin, xmax, nb_buckets)\n",
    "\n",
    "plt.hist(revdisp, bins, alpha=0.5, label='current')\n",
    "plt.hist(simulated_reform, bins, alpha=0.5, label='reform')\n",
    "plt.legend(loc='upper right')\n",
    "plt.show()"
   ]
  },
  {
   "cell_type": "markdown",
   "metadata": {},
   "source": [
    "# Distribution of the changes in revenu in euros"
   ]
  },
  {
   "cell_type": "code",
   "execution_count": null,
   "metadata": {
    "collapsed": false
   },
   "outputs": [],
   "source": [
    "difference = list(simulated_reform[i] - revdisp[i] for i in range(len(simulated_reform)))\n",
    "\n",
    "show_histogram(difference, 'Changes in revenu')"
   ]
  },
  {
   "cell_type": "markdown",
   "metadata": {},
   "source": [
    "# Distribution of the change in revenu in percentage"
   ]
  },
  {
   "cell_type": "code",
   "execution_count": null,
   "metadata": {
    "collapsed": false
   },
   "outputs": [],
   "source": [
    "percentage_difference = list(100 * percent_diff(simulated_reform[i], revdisp[i]) for i in range(len(simulated_reform)))\n",
    "\n",
    "show_histogram(percentage_difference, 'Changes in revenu')"
   ]
  },
  {
   "cell_type": "markdown",
   "metadata": {},
   "source": [
    "# Change as a function of the number of children"
   ]
  },
  {
   "cell_type": "code",
   "execution_count": null,
   "metadata": {
    "collapsed": false,
    "scrolled": true
   },
   "outputs": [],
   "source": [
    "nb_children = list((reformator._population[i].get('per_child', 0)  for i in range(len(reformator._population)))) \n",
    "\n",
    "scatter_plot(nb_children, difference, 'Children', 'Difference reform - current', alpha=0.05)"
   ]
  },
  {
   "cell_type": "markdown",
   "metadata": {},
   "source": [
    "# Change as a function of the age of declarant 1\n",
    "\n",
    "A scatter plot is better than a thousand points #ChineseProverb"
   ]
  },
  {
   "cell_type": "code",
   "execution_count": null,
   "metadata": {
    "collapsed": false
   },
   "outputs": [],
   "source": [
    "age_dec1 = list((reformator._population[i].get('age_dec_1', 0)  for i in range(len(reformator._population)))) \n",
    "\n",
    "scatter_plot(age_dec1, difference, 'Age declarant 1', 'Difference reform - current', alpha=0.1)"
   ]
  },
  {
   "cell_type": "markdown",
   "metadata": {},
   "source": [
    "# <font color=\"Red\">Most important: Edge Cases</font>\n",
    "\n",
    "This is the heart of this tool: by seeing the worse cases, you can discover when the current legislation is smarter than yours (or the other way), and improve it further"
   ]
  },
  {
   "cell_type": "code",
   "execution_count": null,
   "metadata": {
    "collapsed": false
   },
   "outputs": [],
   "source": [
    "order = sorted(range(len(simulated_reform)), key=lambda k: -(simulated_reform[k] - revdisp[k]))\n",
    "\n",
    "data = {}\n",
    "\n",
    "possible_keys = set()\n",
    "for i in order:\n",
    "    for key in reformator._raw_population[i]:\n",
    "        if key != 'year':\n",
    "            possible_keys.add(key)\n",
    "\n",
    "for i in order:\n",
    "    # Adding the diff with the reform.\n",
    "    differences = data.get('difference', [])\n",
    "    differences.append(int(simulated_reform[i] - revdisp[i]))\n",
    "    data['difference'] = differences\n",
    "\n",
    "    for key in possible_keys:\n",
    "        new_vals = data.get(key, [])\n",
    "        value = reformator._raw_population[i].get(key, '')\n",
    "        if type(value) == float:\n",
    "            value = int(value)\n",
    "        new_vals.append(value)\n",
    "        data[key] = new_vals\n",
    "\n",
    "    # Adding reformed line.\n",
    "    reforms = data.get('reform', [])\n",
    "    reforms.append(int(simulated_reform[i]))\n",
    "    data['reform'] = reforms\n",
    "\n",
    "df = pd.DataFrame(data=data)\n",
    "df.set_index('difference', inplace=True)\n",
    "qgrid.show_grid(df)\n"
   ]
  },
  {
   "cell_type": "markdown",
   "metadata": {},
   "source": [
    "# Best compromise simplicity / matching current legislation:"
   ]
  },
  {
   "cell_type": "code",
   "execution_count": null,
   "metadata": {
    "collapsed": false
   },
   "outputs": [],
   "source": [
    "# res, error, cost, final_parameters = reformator.suggest_reform(parameters=[\n",
    "#                             'if_one_declarant_above_24',\n",
    "#                             'if_declarant_above_64',\n",
    "#                             'if_codeclarant_above_64',\n",
    "#                             'if_both_declarant_parent_below_24',\n",
    "#                             'if_two_people',\n",
    "#                             'if_enfant_unique',\n",
    "#                             'if_deux_enfants_ou_plus',\n",
    "#                             'nb_enfants_after_2',\n",
    "#                            ])"
   ]
  },
  {
   "cell_type": "code",
   "execution_count": null,
   "metadata": {
    "collapsed": false
   },
   "outputs": [],
   "source": [
    "# coefficients = list(map(lambda x: x['value'], final_parameters)); variables = list(map(lambda x: x['variable'], final_parameters))\n",
    "# result_frame = pd.DataFrame({'Variables': variables, 'Coefficient': coefficients})\n",
    "# result_frame.set_index('Variables', inplace=True)\n",
    "# qgrid.show_grid(result_frame)"
   ]
  },
  {
   "cell_type": "code",
   "execution_count": null,
   "metadata": {
    "collapsed": true
   },
   "outputs": [],
   "source": []
  }
 ],
 "metadata": {
  "kernelspec": {
   "display_name": "Python 2",
   "language": "python",
   "name": "python2"
  },
  "language_info": {
   "codemirror_mode": {
    "name": "ipython",
    "version": 2
   },
   "file_extension": ".py",
   "mimetype": "text/x-python",
   "name": "python",
   "nbconvert_exporter": "python",
   "pygments_lexer": "ipython2",
   "version": "2.7.10"
  },
  "widgets": {
   "state": {
    "463f0a62297e421caf2af5a557b23732": {
     "views": [
      {
       "cell_index": 10
      }
     ]
    },
    "d70c89ef7f84499aaa991007098ebe06": {
     "views": [
      {
       "cell_index": 12
      }
     ]
    },
    "f853529993aa4446ae44adf5c10dc8ec": {
     "views": [
      {
       "cell_index": 12
      }
     ]
    }
   },
   "version": "1.2.0"
  }
 },
 "nbformat": 4,
 "nbformat_minor": 0
}
