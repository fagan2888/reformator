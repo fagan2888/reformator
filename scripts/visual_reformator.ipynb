{
 "cells": [
  {
   "cell_type": "markdown",
   "metadata": {
    "collapsed": true
   },
   "source": [
    "Guillaume Chaslot <guillaume.chaslot@data.gouv.fr>\n",
    "\n",
    "# Tax Legislation Reforming\n",
    "\n",
    "The tax/benefit legislation on individuals in France is more than 200,000 lines long.\n",
    "\n",
    "This tools help making \n",
    "\n",
    "\n",
    "\n",
    "### How it works:\n",
    "\n",
    "1. Define your concepts (e.g., 'nb_enfants', 'age', 'parent isolé') and budget (e.g.: cost less than 2 millions euros)\n",
    "2. The machine learning algorithm helps you adjust the parameters of your reform to approximate the current legislation and fit your budget\n",
    "3. From the biggest discrepencies with the current legislation, you can improve your concepts (or the legislation)\n",
    "4. Repeat until you reach a legislation that matches your own goals. The algorithm takes care of minimizing your budget and maximizing the similarity to current legislation.\n",
    "\n",
    "### Beta version limitations:\n",
    "\n",
    "For this test, we only take a population of people from all ages, who have 0 to 5 children, no salary, married, veuf, paces, divorces or celibataires, and simulate the \"aides sociales\"\n",
    "\n",
    "### Current Results:\n",
    "\n",
    "Within a few minutes, we got a tax reform for \"aides sociales\" for people with no salary that is:\n",
    "\n",
    "* 6 lines long \n",
    "* similar to the existing in average at more than 95%\n"
   ]
  },
  {
   "cell_type": "code",
   "execution_count": 3,
   "metadata": {
    "collapsed": false
   },
   "outputs": [
    {
     "ename": "ImportError",
     "evalue": "No module named src.utils",
     "output_type": "error",
     "traceback": [
      "\u001b[0;31m---------------------------------------------------------------------------\u001b[0m",
      "\u001b[0;31mImportError\u001b[0m                               Traceback (most recent call last)",
      "\u001b[0;32m<ipython-input-3-4c466e6b8732>\u001b[0m in \u001b[0;36m<module>\u001b[0;34m()\u001b[0m\n\u001b[0;32m----> 1\u001b[0;31m \u001b[0;32mfrom\u001b[0m \u001b[0msrc\u001b[0m\u001b[0;34m.\u001b[0m\u001b[0mutils\u001b[0m \u001b[0;32mimport\u001b[0m \u001b[0mshow_histogram\u001b[0m\u001b[0;34m,\u001b[0m \u001b[0mpercent_diff\u001b[0m\u001b[0;34m,\u001b[0m \u001b[0mscatter_plot\u001b[0m\u001b[0;34m,\u001b[0m \u001b[0mmulti_scatter\u001b[0m\u001b[0;34m\u001b[0m\u001b[0m\n\u001b[0m\u001b[1;32m      2\u001b[0m \u001b[0;32mfrom\u001b[0m \u001b[0meconometrics\u001b[0m \u001b[0;32mimport\u001b[0m \u001b[0mgini\u001b[0m\u001b[0;34m,\u001b[0m \u001b[0mdraw_ginis\u001b[0m\u001b[0;34m\u001b[0m\u001b[0m\n\u001b[1;32m      3\u001b[0m \u001b[0;34m\u001b[0m\u001b[0m\n\u001b[1;32m      4\u001b[0m \u001b[0;32mimport\u001b[0m \u001b[0mmatplotlib\u001b[0m\u001b[0;34m.\u001b[0m\u001b[0mpyplot\u001b[0m \u001b[0;32mas\u001b[0m \u001b[0mplt\u001b[0m\u001b[0;34m\u001b[0m\u001b[0m\n\u001b[1;32m      5\u001b[0m \u001b[0;31m# import bqplot.pyplot as plt\u001b[0m\u001b[0;34m\u001b[0m\u001b[0;34m\u001b[0m\u001b[0m\n",
      "\u001b[0;31mImportError\u001b[0m: No module named src.utils"
     ]
    }
   ],
   "source": [
    "from src.utils import show_histogram, percent_diff, scatter_plot, multi_scatter\n",
    "from econometrics import gini, draw_ginis\n",
    "\n",
    "import matplotlib.pyplot as plt\n",
    "# import bqplot.pyplot as plt\n",
    "\n",
    "import pandas as pd\n",
    "import numpy as np\n",
    "import random\n",
    "import qgrid\n",
    "import copy\n",
    "\n",
    "from reformators import Excalibur\n",
    "\n",
    "qgrid.nbinstall(overwrite=True)\n",
    "\n",
    "%matplotlib inline\n",
    "\n",
    "def show_last_reform_results(revdisp, simulated_reform):\n",
    "    if cost > 0:\n",
    "        display_cost_name = 'Total Cost in Euros'\n",
    "        display_cost_value = int(cost)\n",
    "    else:\n",
    "        display_cost_name = 'Total Savings in Euros'\n",
    "        display_cost_value = -int(cost)\n",
    "\n",
    "    old_gini = gini(revdisp)\n",
    "    new_gini = gini(simulated_reform)\n",
    "\n",
    "    result_frame = pd.DataFrame({\n",
    "        display_cost_name: [display_cost_value],\n",
    "        'Average change / family / month in Euros' : [int(error) / 12],\n",
    "        'People losing money' : str(100 * pissed) + '%',\n",
    "        'Old Gini' : old_gini,\n",
    "        'New Gini' : new_gini,\n",
    "        })\n",
    "\n",
    "    result_frame.set_index(display_cost_name, inplace=True)\n",
    "    qgrid.show_grid(result_frame)\n"
   ]
  },
  {
   "cell_type": "markdown",
   "metadata": {},
   "source": [
    "# Which variable do you want to optimize?\n",
    "\n",
    "Here, we want to optimize the variable 'revdisp' which by putting a tax on 'taxable_income'"
   ]
  },
  {
   "cell_type": "code",
   "execution_count": null,
   "metadata": {
    "collapsed": false
   },
   "outputs": [],
   "source": [
    "reformator = Excalibur(target_variable='revdisp',\n",
    "                       taxable_variable='taxable_variable')"
   ]
  },
  {
   "cell_type": "code",
   "execution_count": null,
   "metadata": {
    "collapsed": false
   },
   "outputs": [],
   "source": [
    "from openfisca_survey_manager.survey_collections import SurveyCollection\n",
    "\n",
    "year = 2012\n",
    "\n"
   ]
  },
  {
   "cell_type": "markdown",
   "metadata": {},
   "source": [
    "# What is the population you want to use?\n",
    "\n",
    "The population data is simulated for now, see population_simulator.py for details."
   ]
  },
  {
   "cell_type": "code",
   "execution_count": null,
   "metadata": {
    "collapsed": false
   },
   "outputs": [],
   "source": [
    "reformator.load_openfisca_results('1aj-1bj-f-2000')\n",
    "\n",
    "# Removing unlikely cases of super old parents due to our approximative population\n",
    "# reformator.filter_only_likely_population()\n",
    "\n",
    "# # Keeping only people with no revenu for this test\n",
    "# reformator.filter_only_no_revenu()"
   ]
  },
  {
   "cell_type": "markdown",
   "metadata": {},
   "source": [
    "# What are the concept you want to use for your reform?\n",
    "\n",
    "You can add concepts like the number of children, age, family situation, etc... \n",
    "\n",
    "The input population is in the CERFA \"declaration des revenus\" format."
   ]
  },
  {
   "cell_type": "code",
   "execution_count": null,
   "metadata": {
    "collapsed": false,
    "scrolled": true
   },
   "outputs": [],
   "source": [
    "\n",
    "def age_dec_1(family):\n",
    "    return age_from_box(family, '0DA')\n",
    "\n",
    "def age_dec_2(family):\n",
    "    if '0DB' in family:\n",
    "        return age_from_box(family, '0DB')\n",
    "    return None\n",
    "\n",
    "def if_married(family):\n",
    "    return 'M' in family\n",
    "\n",
    "def if_pacse(family):\n",
    "    return 'O' in family\n",
    "\n",
    "def if_veuf(family):\n",
    "    return 'V' in family\n",
    "\n",
    "def if_divorce(family):\n",
    "    return 'D' in family\n",
    "\n",
    "def if_two_people(family):\n",
    "    return '0DB' in family\n",
    "\n",
    "def revenu_1(family):\n",
    "    return family['1AJ']\n",
    "\n",
    "def taxable_variable(family):\n",
    "    if '1BJ' in family:\n",
    "        return family['1AJ'] + family['1BJ']\n",
    "    else:\n",
    "        return family['1AJ']\n",
    "\n",
    "def revenu_2(family):\n",
    "    if '1BJ' in family:\n",
    "        return family['1BJ']\n",
    "    return False\n",
    "    \n",
    "def age_from_box(family, birthdate_box):\n",
    "    return 2014 - family.get(birthdate_box, 2014)\n",
    "\n",
    "def if_both_declarant_parent_below_24(family):\n",
    "    if age_dec_1(family) >= 24:\n",
    "        return False\n",
    "    if '0DB' in family and age_dec_2(family) >= 24:\n",
    "        return False\n",
    "    if 'F' not in family or family['F'] == 0:\n",
    "        return False\n",
    "    return True\n",
    "\n",
    "def per_child(family):\n",
    "    if 'F' in family:\n",
    "        return family['F']\n",
    "    else:\n",
    "        return None\n",
    "\n",
    "def per_child_parent_isole(family):\n",
    "    if '0DB' in family:\n",
    "        return None\n",
    "    if 'F' in family:\n",
    "        return family['F']\n",
    "    else:\n",
    "        return None\n",
    "\n",
    "def if_parent_isole_moins_20k(family):\n",
    "    return 'F' in family and family['F'] >= 1 and ('0DB' not in family) and family['1AJ'] < 20000\n",
    "\n",
    "def if_enfant_unique(family):\n",
    "    return 'F' in family and family['F'] == 1\n",
    "\n",
    "def if_deux_enfants_ou_plus(family):\n",
    "    return 'F' in family and family['F'] >= 2\n",
    "\n",
    "def per_child_after_2(family):\n",
    "    if 'F' in family and family['F'] >= 2:\n",
    "        return family['F'] - 2\n",
    "    return None\n",
    "\n",
    "def if_declarant_above_65(family):\n",
    "    return age_from_box(family, '0DA') >= 65\n",
    "    \n",
    "def if_codeclarant_above_65(family):\n",
    "    return '0DB' in family and age_from_box(family, '0DB') > 65\n",
    "\n",
    "def per_declarant_above_65(family):\n",
    "    return int(age_from_box(family, '0DB') >= 65) + int(age_from_box(family, '0DA') >= 65)\n",
    "\n",
    "def per_declarant_above_24(family):\n",
    "    return int(age_from_box(family, '0DB') >= 24) + int(age_from_box(family, '0DA') >= 24)\n",
    "\n",
    "def if_one_declarant_above_24(family):\n",
    "    return (age_from_box(family, '0DA') >= 24 or ('0DB' in family and age_from_box(family, '0DB') >= 24))\n",
    "\n",
    "def if_one_declarant_above_24_or_has_children(family):\n",
    "    return (age_from_box(family, '0DA') >= 24 or ('0DB' in family and age_from_box(family, '0DB') >= 24) or \n",
    "           ('F' in family and family['F'] >= 1))\n",
    "\n",
    "def if_earns_10k(family):\n",
    "    return taxable_variable(family) > 10000\n",
    "\n",
    "def if_earns_30k(family):\n",
    "    return taxable_variable(family) > 30000\n",
    "\n",
    "def if_earns_40k(family):\n",
    "    return taxable_variable(family) > 40000\n",
    "\n",
    "def base(family):\n",
    "    return True\n",
    "\n",
    "reformator.add_concept('base', base)\n",
    "reformator.add_concept('age_dec_1', age_dec_1)\n",
    "reformator.add_concept('age_dec_2', age_dec_2)\n",
    "reformator.add_concept('taxable_variable', taxable_variable)\n",
    "reformator.add_concept('revenu_1', revenu_1)\n",
    "reformator.add_concept('revenu_2', revenu_2)\n",
    "reformator.add_concept('per_child', per_child)\n",
    "reformator.add_concept('per_child_parent_isole', per_child_parent_isole)\n",
    "reformator.add_concept('per_declarant_above_24', per_declarant_above_24)\n",
    "reformator.add_concept('per_declarant_above_65', per_declarant_above_65)\n",
    "reformator.add_concept('per_child_after_2', per_child_after_2)\n",
    "reformator.add_concept('if_earns_10k', if_earns_10k)\n",
    "reformator.add_concept('if_earns_30k', if_earns_30k)\n",
    "reformator.add_concept('if_earns_40k', if_earns_40k)\n",
    "reformator.add_concept('if_one_declarant_above_24', if_one_declarant_above_24)\n",
    "reformator.add_concept('if_one_declarant_above_24_or_has_children', if_one_declarant_above_24_or_has_children)\n",
    "reformator.add_concept('if_both_declarant_parent_below_24', if_both_declarant_parent_below_24)\n",
    "reformator.add_concept('if_declarant_above_65', if_declarant_above_65)\n",
    "reformator.add_concept('if_codeclarant_above_65', if_codeclarant_above_65)\n",
    "reformator.add_concept('if_enfant_unique', if_enfant_unique)\n",
    "reformator.add_concept('if_deux_enfants_ou_plus', if_deux_enfants_ou_plus)\n",
    "reformator.add_concept('if_two_people', if_two_people)\n",
    "reformator.add_concept('if_parent_isole_moins_20k', if_parent_isole_moins_20k)\n",
    "\n",
    "reformator.summarize_population()"
   ]
  },
  {
   "cell_type": "markdown",
   "metadata": {},
   "source": [
    "# Plots Revenu disponible before reform"
   ]
  },
  {
   "cell_type": "code",
   "execution_count": null,
   "metadata": {
    "collapsed": false
   },
   "outputs": [],
   "source": [
    "revdisp = list(family['revdisp'] for family in reformator._population)\n",
    "\n",
    "show_histogram(revdisp, 'Distribution of revenu disponible')"
   ]
  },
  {
   "cell_type": "markdown",
   "metadata": {},
   "source": [
    "# <font color='red'>Define your reform here!</font>\n"
   ]
  },
  {
   "cell_type": "code",
   "execution_count": null,
   "metadata": {
    "collapsed": false
   },
   "outputs": [],
   "source": [
    "simulated_reform, error, cost, final_parameters, pissed  = reformator.suggest_reform(\n",
    "            parameters=[\n",
    "                            'per_child',\n",
    "                            'per_declarant_above_65',\n",
    "                            'if_one_declarant_above_24_or_has_children',\n",
    "                        ],\n",
    "            tax_rate_parameters=[\n",
    "                            'base',\n",
    "                            'per_child',\n",
    "            ],\n",
    "            max_cost=0,\n",
    "            min_saving=0)"
   ]
  },
  {
   "cell_type": "code",
   "execution_count": null,
   "metadata": {
    "collapsed": false
   },
   "outputs": [],
   "source": [
    "show_last_reform_results(revdisp, simulated_reform)"
   ]
  },
  {
   "cell_type": "code",
   "execution_count": null,
   "metadata": {
    "collapsed": false
   },
   "outputs": [],
   "source": [
    "draw_ginis(revdisp, simulated_reform)"
   ]
  },
  {
   "cell_type": "code",
   "execution_count": null,
   "metadata": {
    "collapsed": false
   },
   "outputs": [],
   "source": [
    "print repr(final_parameters)\n",
    "def show_coefficients(final_parameters, current_type):\n",
    "    coefficients = []\n",
    "    variables = []\n",
    "    for parameter in final_parameters:\n",
    "        if parameter['type'] == current_type:\n",
    "            coefficients.append(parameter['value'])\n",
    "            variables.append(parameter['variable'])\n",
    "\n",
    "    result_frame = pd.DataFrame({'Variables': variables, current_type + ' coef': coefficients})\n",
    "    result_frame.set_index('Variables', inplace=True)\n",
    "    qgrid.show_grid(result_frame)\n",
    "\n",
    "show_coefficients(final_parameters, 'base_revenu')\n",
    "show_coefficients(final_parameters, 'tax_rate')\n",
    "# show_coefficients(final_parameters, 'tax_threshold')"
   ]
  },
  {
   "cell_type": "code",
   "execution_count": null,
   "metadata": {
    "collapsed": false
   },
   "outputs": [],
   "source": [
    "new_pop = copy.deepcopy(reformator._population)\n",
    "\n",
    "for i in range(len(new_pop)):\n",
    "    new_pop[i]['reform'] = simulated_reform[i] \n",
    "\n",
    "def plot_for_population(pop):\n",
    "    revenu_imposable = list(family['taxable_variable'] for family in pop)\n",
    "    revdisp = list(family['revdisp'] for family in pop)\n",
    "    reform = list(family['reform'] for family in pop)\n",
    "\n",
    "    multi_scatter('Revenu disponible for different people before / after reforme', 'Revenu initial', 'Revenu disponible', [\n",
    "                  {'x':revenu_imposable, 'y':reform, 'label':'Reform', 'color':'blue'},\n",
    "                  {'x':revenu_imposable, 'y':revdisp, 'label':'Original', 'color':'red'},\n",
    "              ])"
   ]
  },
  {
   "cell_type": "code",
   "execution_count": null,
   "metadata": {
    "collapsed": false
   },
   "outputs": [],
   "source": [
    "un_enfant_pop = list(filter(lambda x: x.get('per_child', 0) == 0\n",
    "                                  and x.get('age_dec_1', 0) < 65\n",
    "                                  and x.get('age_dec_2', 0) < 65,\n",
    "                            new_pop))\n",
    "\n",
    "plot_for_population(un_enfant_pop)"
   ]
  },
  {
   "cell_type": "code",
   "execution_count": null,
   "metadata": {
    "collapsed": false
   },
   "outputs": [],
   "source": [
    "show_last_reform_results(revdisp, simulated_reform)"
   ]
  },
  {
   "cell_type": "code",
   "execution_count": null,
   "metadata": {
    "collapsed": false
   },
   "outputs": [],
   "source": [
    "# simulated_reform_tree, error_tree, cost_tree, final_parameters_tree  = reformator.suggest_reform_tree(\n",
    "#             parameters=[\n",
    "#                             'per_child',\n",
    "#                             'if_one_declarant_above_24_or_has_children',\n",
    "#                             'age_dec_1',\n",
    "#                             'age_dec_2'\n",
    "#                         ],\n",
    "#                             max_cost=0,\n",
    "#                             min_saving=0,\n",
    "#                             image_file='./enfants_age',\n",
    "#                             max_depth=5,\n",
    "#                             min_samples_leaf=20\n",
    "#                         )"
   ]
  },
  {
   "cell_type": "markdown",
   "metadata": {},
   "source": [
    "# <font color=\"darkgreen\">Reform results</font>"
   ]
  },
  {
   "cell_type": "code",
   "execution_count": null,
   "metadata": {
    "collapsed": false
   },
   "outputs": [],
   "source": [
    "# show_last_reform_results()\n",
    "# from IPython.display import Image\n",
    "# Image(filename='./enfants_age.png')"
   ]
  },
  {
   "cell_type": "markdown",
   "metadata": {},
   "source": [
    "# Plots revenu disponible after reform"
   ]
  },
  {
   "cell_type": "code",
   "execution_count": null,
   "metadata": {
    "collapsed": false
   },
   "outputs": [],
   "source": [
    "xmin = 0\n",
    "xmax = 60000\n",
    "nb_buckets = 35\n",
    "\n",
    "bins = np.linspace(xmin, xmax, nb_buckets)\n",
    "\n",
    "plt.hist(revdisp, bins, alpha=0.5, label='current')\n",
    "plt.hist(simulated_reform, bins, alpha=0.5, label='reform')\n",
    "plt.legend(loc='upper right')\n",
    "plt.show()"
   ]
  },
  {
   "cell_type": "markdown",
   "metadata": {},
   "source": [
    "# Distribution of the changes in revenu in euros"
   ]
  },
  {
   "cell_type": "code",
   "execution_count": null,
   "metadata": {
    "collapsed": false
   },
   "outputs": [],
   "source": [
    "difference = list(simulated_reform[i] - revdisp[i] for i in range(len(simulated_reform)))\n",
    "\n",
    "show_histogram(difference, 'Changes in revenu')"
   ]
  },
  {
   "cell_type": "markdown",
   "metadata": {},
   "source": [
    "# Distribution of the change in revenu in percentage"
   ]
  },
  {
   "cell_type": "code",
   "execution_count": null,
   "metadata": {
    "collapsed": false
   },
   "outputs": [],
   "source": [
    "percentage_difference = list(100 * percent_diff(simulated_reform[i], revdisp[i]) for i in range(len(simulated_reform)))\n",
    "\n",
    "show_histogram(percentage_difference, 'Changes in revenu')"
   ]
  },
  {
   "cell_type": "markdown",
   "metadata": {},
   "source": [
    "# Change as a function of the number of children"
   ]
  },
  {
   "cell_type": "code",
   "execution_count": null,
   "metadata": {
    "collapsed": false,
    "scrolled": true
   },
   "outputs": [],
   "source": [
    "nb_children = list((reformator._population[i].get('per_child', 0)  for i in range(len(reformator._population)))) \n",
    "\n",
    "scatter_plot(nb_children, difference, 'Children', 'Difference reform - current', alpha=0.05)"
   ]
  },
  {
   "cell_type": "markdown",
   "metadata": {},
   "source": [
    "# Change as a function of the age of declarant 1\n",
    "\n",
    "A scatter plot is better than a thousand points #ChineseProverb"
   ]
  },
  {
   "cell_type": "code",
   "execution_count": null,
   "metadata": {
    "collapsed": false
   },
   "outputs": [],
   "source": [
    "age_dec1 = list((reformator._population[i].get('age_dec_1', 0)  for i in range(len(reformator._population)))) \n",
    "\n",
    "scatter_plot(age_dec1, difference, 'Age declarant 1', 'Difference reform - current', alpha=0.1)"
   ]
  },
  {
   "cell_type": "markdown",
   "metadata": {},
   "source": [
    "# <font color=\"Red\">Most important: Edge Cases</font>\n",
    "\n",
    "This is the heart of this tool: by seeing the worse cases, you can discover when the current legislation is smarter than yours (or the other way), and improve it further"
   ]
  },
  {
   "cell_type": "code",
   "execution_count": null,
   "metadata": {
    "collapsed": false
   },
   "outputs": [],
   "source": [
    "order = sorted(range(len(simulated_reform)), key=lambda k: -(simulated_reform[k] - revdisp[k]))\n",
    "\n",
    "data = {}\n",
    "\n",
    "possible_keys = set()\n",
    "for i in order:\n",
    "    for key in reformator._raw_population[i]:\n",
    "        if key != 'year':\n",
    "            possible_keys.add(key)\n",
    "\n",
    "for i in order:\n",
    "    # Adding the diff with the reform.\n",
    "    differences = data.get('difference', [])\n",
    "    differences.append(int(simulated_reform[i] - revdisp[i]))\n",
    "    data['difference'] = differences\n",
    "\n",
    "    for key in possible_keys:\n",
    "        new_vals = data.get(key, [])\n",
    "        value = reformator._raw_population[i].get(key, '')\n",
    "        if type(value) == float:\n",
    "            value = int(value)\n",
    "        new_vals.append(value)\n",
    "        data[key] = new_vals\n",
    "\n",
    "    # Adding reformed line.\n",
    "    reforms = data.get('reform', [])\n",
    "    reforms.append(int(simulated_reform[i]))\n",
    "    data['reform'] = reforms\n",
    "\n",
    "df = pd.DataFrame(data=data)\n",
    "df.set_index('difference', inplace=True)\n",
    "qgrid.show_grid(df)\n"
   ]
  },
  {
   "cell_type": "markdown",
   "metadata": {},
   "source": [
    "# Best compromise simplicity / matching current legislation:"
   ]
  },
  {
   "cell_type": "code",
   "execution_count": null,
   "metadata": {
    "collapsed": false
   },
   "outputs": [],
   "source": [
    "# res, error, cost, final_parameters = reformator.suggest_reform(parameters=[\n",
    "#                             'if_one_declarant_above_24',\n",
    "#                             'if_declarant_above_64',\n",
    "#                             'if_codeclarant_above_64',\n",
    "#                             'if_both_declarant_parent_below_24',\n",
    "#                             'if_two_people',\n",
    "#                             'if_enfant_unique',\n",
    "#                             'if_deux_enfants_ou_plus',\n",
    "#                             'nb_enfants_after_2',\n",
    "#                            ])"
   ]
  },
  {
   "cell_type": "code",
   "execution_count": null,
   "metadata": {
    "collapsed": false
   },
   "outputs": [],
   "source": [
    "# coefficients = list(map(lambda x: x['value'], final_parameters)); variables = list(map(lambda x: x['variable'], final_parameters))\n",
    "# result_frame = pd.DataFrame({'Variables': variables, 'Coefficient': coefficients})\n",
    "# result_frame.set_index('Variables', inplace=True)\n",
    "# qgrid.show_grid(result_frame)"
   ]
  }
 ],
 "metadata": {
  "kernelspec": {
   "display_name": "Python 2",
   "language": "python",
   "name": "python2"
  },
  "language_info": {
   "codemirror_mode": {
    "name": "ipython",
    "version": 2
   },
   "file_extension": ".py",
   "mimetype": "text/x-python",
   "name": "python",
   "nbconvert_exporter": "python",
   "pygments_lexer": "ipython2",
   "version": "2.7.10"
  }
 },
 "nbformat": 4,
 "nbformat_minor": 0
}
