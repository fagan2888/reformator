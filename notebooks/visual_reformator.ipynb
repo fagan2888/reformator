{
 "cells": [
  {
   "cell_type": "markdown",
   "metadata": {
    "collapsed": true
   },
   "source": [
    "Guillaume Chaslot <guillaume.chaslot@data.gouv.fr>\n",
    "\n",
    "# Tax Legislation Reform\n",
    "\n",
    "The tax and benefit legislation is complex. This tool helps to make reform that returns a complete and simplified tax and benefit system.\n",
    "\n",
    "### How it works:\n",
    "\n",
    "1. Define your concepts (e.g., 'nb_enfants', 'age', 'parent isolé') and budget (e.g.: cost less than 2 millions euros)\n",
    "2. The machine learning algorithm helps you adjust the parameters of your reform to approximate the current legislation and fit your budget\n",
    "3. From the biggest discrepencies with the current legislation, you can improve your concepts (or the legislation)\n",
    "4. Repeat until you reach a legislation that matches your own goals. The algorithm takes care of minimizing your budget and maximizing the similarity to current legislation.\n",
    "\n",
    "### Beta version limitations:\n",
    "\n",
    "For this test, we only take a population of people from all ages, who have 0 to 5 children, no salary, married, veuf, paces, divorces or celibataires, and simulate the \"aides sociales\"\n",
    "\n",
    "### Current Results:\n",
    "\n",
    "Within a few minutes, we got a tax reform for \"aides sociales\" for people with no salary that is:\n",
    "\n",
    "* 6 lines long \n",
    "* similar to the existing in average at more than 95%\n"
   ]
  },
  {
   "cell_type": "markdown",
   "metadata": {},
   "source": [
    "## Imports"
   ]
  },
  {
   "cell_type": "code",
   "execution_count": 1,
   "metadata": {
    "collapsed": false,
    "scrolled": true
   },
   "outputs": [],
   "source": [
    "import copy\n",
    "import random\n",
    "\n",
    "import matplotlib.pyplot as plt\n",
    "import numpy as np\n",
    "import pandas as pd\n",
    "import qgrid\n",
    "\n",
    "from openfisca_reformator.econometrics import gini, draw_ginis\n",
    "from openfisca_reformator.population import Population\n",
    "from openfisca_reformator.reform import Reform\n",
    "from openfisca_reformator.utils import show_histogram, percent_diff, scatter_plot, multi_scatter\n",
    "\n",
    "qgrid.nbinstall(overwrite=True)\n",
    "\n",
    "%matplotlib inline"
   ]
  },
  {
   "cell_type": "markdown",
   "metadata": {},
   "source": [
    "# Which population do you want to use?\n",
    "\n",
    "For instance we want to use the 'revdisp' computed by OpenFisca, on a population that represents 0.21% of the french population."
   ]
  },
  {
   "cell_type": "code",
   "execution_count": 2,
   "metadata": {
    "collapsed": false
   },
   "outputs": [
    {
     "data": {
      "text/plain": [
       "4.965313909122442e-05"
      ]
     },
     "execution_count": 2,
     "metadata": {},
     "output_type": "execute_result"
    }
   ],
   "source": [
    "population = Population.from_openfisca_files(\n",
    "    base_name='1aj-1bj-f-2000',\n",
    "    variables_loaded_from_results=['revdisp'],\n",
    "    nb_individuals=2863.0,\n",
    "    nb_individuals_ref= 62000000 * 93 / 100,\n",
    "    )\n",
    "population._representativity"
   ]
  },
  {
   "cell_type": "markdown",
   "metadata": {},
   "source": [
    "# What are the computed variables you want to use for your reform?\n",
    "\n",
    "You can add concepts like the number of children, age, family situation, etc... "
   ]
  },
  {
   "cell_type": "code",
   "execution_count": 3,
   "metadata": {
    "collapsed": false,
    "scrolled": true
   },
   "outputs": [
    {
     "name": "stdout",
     "output_type": "stream",
     "text": [
      "Total number of people in the population 2863\n"
     ]
    }
   ],
   "source": [
    "def age_dec_1(family):\n",
    "    return age_from_box(family, '0DA')\n",
    "\n",
    "def age_dec_2(family):\n",
    "    if '0DB' in family:\n",
    "        return age_from_box(family, '0DB')\n",
    "    return None\n",
    "\n",
    "def if_married(family):\n",
    "    return 'M' in family\n",
    "\n",
    "def if_pacse(family):\n",
    "    return 'O' in family\n",
    "\n",
    "def if_veuf(family):\n",
    "    return 'V' in family\n",
    "\n",
    "def if_divorce(family):\n",
    "    return 'D' in family\n",
    "\n",
    "def if_two_people(family):\n",
    "    return '0DB' in family\n",
    "\n",
    "def revenu_1(family):\n",
    "    return family['1AJ']\n",
    "\n",
    "def taxable_variable(family):\n",
    "    if '1BJ' in family:\n",
    "        return family['1AJ'] + family['1BJ']\n",
    "    else:\n",
    "        return family['1AJ']\n",
    "\n",
    "def revenu_2(family):\n",
    "    if '1BJ' in family:\n",
    "        return family['1BJ']\n",
    "    return False\n",
    "\n",
    "def age_from_box(family, birthdate_box):\n",
    "    return 2014 - family.get(birthdate_box, 2014)\n",
    "\n",
    "def if_both_declarant_parent_below_24(family):\n",
    "    if age_dec_1(family) >= 24:\n",
    "        return False\n",
    "    if '0DB' in family and age_dec_2(family) >= 24:\n",
    "        return False\n",
    "    if 'F' not in family or family['F'] == 0:\n",
    "        return False\n",
    "    return True\n",
    "\n",
    "def per_child(family):\n",
    "    if 'F' in family:\n",
    "        return family['F']\n",
    "    else:\n",
    "        return None\n",
    "\n",
    "def per_child_parent_isole(family):\n",
    "    if '0DB' in family:\n",
    "        return None\n",
    "    if 'F' in family:\n",
    "        return family['F']\n",
    "    else:\n",
    "        return None\n",
    "\n",
    "def if_parent_isole_moins_20k(family):\n",
    "    return 'F' in family and family['F'] >= 1 and ('0DB' not in family) and family['1AJ'] < 20000\n",
    "\n",
    "def if_enfant_unique(family):\n",
    "    return 'F' in family and family['F'] == 1\n",
    "\n",
    "def if_deux_enfants_ou_plus(family):\n",
    "    return 'F' in family and family['F'] >= 2\n",
    "\n",
    "def per_child_after_2(family):\n",
    "    if 'F' in family and family['F'] >= 2:\n",
    "        return family['F'] - 2\n",
    "    return None\n",
    "\n",
    "def if_declarant_above_65(family):\n",
    "    return age_from_box(family, '0DA') >= 65\n",
    "\n",
    "def if_codeclarant_above_65(family):\n",
    "    return '0DB' in family and age_from_box(family, '0DB') > 65\n",
    "\n",
    "def per_declarant_above_65(family):\n",
    "    return int(age_from_box(family, '0DB') >= 65) + int(age_from_box(family, '0DA') >= 65)\n",
    "\n",
    "def per_declarant_above_24(family):\n",
    "    return int(age_from_box(family, '0DB') >= 24) + int(age_from_box(family, '0DA') >= 24)\n",
    "\n",
    "def if_one_declarant_above_24(family):\n",
    "    return (age_from_box(family, '0DA') >= 24 or ('0DB' in family and age_from_box(family, '0DB') >= 24))\n",
    "\n",
    "def if_one_declarant_above_24_or_has_children(family):\n",
    "    return (age_from_box(family, '0DA') >= 24 or ('0DB' in family and age_from_box(family, '0DB') >= 24) or \n",
    "           ('F' in family and family['F'] >= 1))\n",
    "\n",
    "def if_earns_10k(family):\n",
    "    return taxable_variable(family) > 10000\n",
    "\n",
    "def if_earns_30k(family):\n",
    "    return taxable_variable(family) > 30000\n",
    "\n",
    "def if_earns_40k(family):\n",
    "    return taxable_variable(family) > 40000\n",
    "\n",
    "def anyone(family):\n",
    "    return True\n",
    "\n",
    "population.declare_computed_variables({\n",
    "    'anyone': anyone,\n",
    "    'age_dec_1': age_dec_1,\n",
    "    'age_dec_2': age_dec_2,\n",
    "    'taxable_variable': taxable_variable,\n",
    "    'revenu_1': revenu_1,\n",
    "    'revenu_2': revenu_2,\n",
    "    'per_child': per_child,\n",
    "    'per_child_parent_isole': per_child_parent_isole,\n",
    "    'per_declarant_above_24': per_declarant_above_24,\n",
    "    'per_declarant_above_65': per_declarant_above_65,\n",
    "    'per_child_after_2': per_child_after_2,\n",
    "    'if_earns_10k': if_earns_10k,\n",
    "    'if_earns_30k': if_earns_30k,\n",
    "    'if_earns_40k': if_earns_40k,\n",
    "    'if_one_declarant_above_24': if_one_declarant_above_24,\n",
    "    'if_one_declarant_above_24_or_has_children': if_one_declarant_above_24_or_has_children,\n",
    "    'if_both_declarant_parent_below_24': if_both_declarant_parent_below_24,\n",
    "    'if_declarant_above_65': if_declarant_above_65,\n",
    "    'if_codeclarant_above_65': if_codeclarant_above_65,\n",
    "    'if_enfant_unique': if_enfant_unique,\n",
    "    'if_deux_enfants_ou_plus': if_deux_enfants_ou_plus,\n",
    "    'if_two_people': if_two_people,\n",
    "    'if_parent_isole_moins_20k': if_parent_isole_moins_20k,\n",
    "    })\n",
    "\n",
    "population.print_population_from_cerfa_values()"
   ]
  },
  {
   "cell_type": "markdown",
   "metadata": {},
   "source": [
    "# Plots Revenu disponible before reform"
   ]
  },
  {
   "cell_type": "code",
   "execution_count": null,
   "metadata": {
    "collapsed": false
   },
   "outputs": [
    {
     "data": {
      "image/png": "[encoded data removed]",
      "text/plain": [
       "<matplotlib.figure.Figure at 0x7f506859da50>"
      ]
     },
     "metadata": {},
     "output_type": "display_data"
    }
   ],
   "source": [
    "revdisp = list(family['revdisp'] for family in population._population)\n",
    "show_histogram(revdisp, 'Distribution of revenu disponible')\n"
   ]
  },
  {
   "cell_type": "markdown",
   "metadata": {},
   "source": [
    "# <font color='blue'>Define the constraints of your reform</font>\n"
   ]
  },
  {
   "cell_type": "code",
   "execution_count": null,
   "metadata": {
    "collapsed": false
   },
   "outputs": [
    {
     "name": "stdout",
     "output_type": "stream",
     "text": [
      "(4_w,9)-aCMA-ES (mu_w=2.8,w_1=49%) in dimension 7 (seed=353620, Tue Dec 20 16:52:49 2016)\n",
      "Iterat #Fevals   function value  axis ratio  sigma  min&max std  t[m:s]\n",
      "    1      9 2.777578629925165e+03 1.0e+00 9.16e+03  9e+03  9e+03 0:0.1\n",
      "Best: avg change per month: 72842 cost: -34276754 M/year and 59% people with lower salary\n",
      "    2     18 2.633804858685677e+04 1.2e+00 8.97e+03  8e+03  9e+03 0:0.4\n",
      "    3     27 1.082489590844626e+04 1.3e+00 7.93e+03  7e+03  8e+03 0:0.6\n",
      "Best: avg change per month: 180226 cost: -75892529 M/year and 58% people with lower salary\n",
      "Best: avg change per month: 151365 cost: -71875299 M/year and 59% people with lower salary\n",
      "Best: avg change per month: 82558 cost: -35063846 M/year and 58% people with lower salary\n",
      "Best: avg change per month: 104361 cost: -40466638 M/year and 17% people with lower salary\n",
      "Best: avg change per month: 72787 cost: -30863399 M/year and 58% people with lower salary\n",
      "Best: avg change per month: 76666 cost: -28356702 M/year and 74% people with lower salary\n",
      "Best: avg change per month: 94126 cost: -3779063 M/year and 15% people with lower salary\n",
      "Best: avg change per month: 40893 cost: -11017388 M/year and 36% people with lower salary\n",
      "Best: avg change per month: 55631 cost: -14691333 M/year and 57% people with lower salary\n",
      "Best: avg change per month: 45470 cost: -15471034 M/year and 76% people with lower salary\n",
      "Best: avg change per month: 42099 cost: -10924457 M/year and 89% people with lower salary\n",
      "Best: avg change per month: 72857 cost: -16889047 M/year and 33% people with lower salary\n",
      "Best: avg change per month: 55401 cost: -2500133 M/year and 46% people with lower salary\n",
      "Best: avg change per month: 51722 cost: -15831199 M/year and 33% people with lower salary\n",
      "Best: avg change per month: 52472 cost: -16308572 M/year and 90% people with lower salary\n",
      "Best: avg change per month: 14424 cost: -5450030 M/year and 78% people with lower salary\n",
      "Best: avg change per month: 17446 cost: -3365056 M/year and 70% people with lower salary\n",
      "Best: avg change per month: 15245 cost: -5714705 M/year and 75% people with lower salary\n",
      "Best: avg change per month: 24002 cost: -5470336 M/year and 36% people with lower salary\n",
      "Best: avg change per month: 17090 cost: -7467339 M/year and 79% people with lower salary\n",
      "Best: avg change per month: 10202 cost: -3961019 M/year and 72% people with lower salary\n",
      "Best: avg change per month: 2977 cost: -312295 M/year and 68% people with lower salary\n",
      "Best: avg change per month: 6092 cost: -2464003 M/year and 50% people with lower salary\n",
      "Best: avg change per month: 1735 cost: 567764 M/year and 52% people with lower salary\n",
      "Best: avg change per month: 2473 cost: -1003751 M/year and 81% people with lower salary\n",
      "  100    900 4.871751283590595e+01 2.9e+01 3.40e+02  3e+01  6e+02 0:25.9\n",
      "Best: avg change per month: 1742 cost: -627112 M/year and 77% people with lower salary\n",
      "Best: avg change per month: 1073 cost: -136558 M/year and 55% people with lower salary\n",
      "Best: avg change per month: 928 cost: -130367 M/year and 65% people with lower salary\n",
      "Best: avg change per month: 783 cost: -46580 M/year and 59% people with lower salary\n",
      "Best: avg change per month: 984 cost: -99327 M/year and 57% people with lower salary\n",
      "Best: avg change per month: 698 cost: 7494 M/year and 58% people with lower salary\n",
      "Best: avg change per month: 717 cost: -13337 M/year and 57% people with lower salary\n",
      "Best: avg change per month: 688 cost: -53050 M/year and 59% people with lower salary\n",
      "Best: avg change per month: 749 cost: -122026 M/year and 63% people with lower salary\n",
      "Best: avg change per month: 371 cost: -61480 M/year and 69% people with lower salary\n",
      "Best: avg change per month: 416 cost: -86715 M/year and 65% people with lower salary\n",
      "Best: avg change per month: 235 cost: 2770 M/year and 47% people with lower salary\n",
      "Best: avg change per month: 268 cost: -51066 M/year and 69% people with lower salary\n",
      "Best: avg change per month: 185 cost: -2525 M/year and 49% people with lower salary\n",
      "Best: avg change per month: 175 cost: 7533 M/year and 44% people with lower salary\n",
      "Best: avg change per month: 160 cost: -22442 M/year and 64% people with lower salary\n",
      "  200   1800 5.279388760003878e+00 7.2e+02 3.58e+02  4e+00  1e+03 0:53.3\n",
      "Best: avg change per month: 146 cost: -9230 M/year and 59% people with lower salary\n",
      "Best: avg change per month: 121 cost: -15667 M/year and 65% people with lower salary\n",
      "Best: avg change per month: 154 cost: -14473 M/year and 69% people with lower salary\n",
      "Best: avg change per month: 125 cost: -12258 M/year and 48% people with lower salary\n",
      "Best: avg change per month: 111 cost: -18304 M/year and 47% people with lower salary\n",
      "Best: avg change per month: 107 cost: -11865 M/year and 37% people with lower salary\n",
      "Best: avg change per month: 108 cost: -12662 M/year and 39% people with lower salary\n",
      "Best: avg change per month: 108 cost: -12826 M/year and 37% people with lower salary\n",
      "Best: avg change per month: 108 cost: -12496 M/year and 39% people with lower salary\n",
      "Best: avg change per month: 108 cost: -13001 M/year and 39% people with lower salary\n",
      "Best: avg change per month: 108 cost: -12727 M/year and 37% people with lower salary\n",
      "Best: avg change per month: 108 cost: -12700 M/year and 39% people with lower salary\n",
      "Best: avg change per month: 108 cost: -12671 M/year and 39% people with lower salary\n",
      "Best: avg change per month: 108 cost: -12679 M/year and 39% people with lower salary\n",
      "Best: avg change per month: 108 cost: -12678 M/year and 37% people with lower salary\n",
      "Best: avg change per month: 108 cost: -12684 M/year and 39% people with lower salary\n",
      "  300   2700 3.712562245018895e+00 4.4e+02 9.37e-01  2e-03  7e-01 1:20.1\n",
      "Best: avg change per month: 108 cost: -12732 M/year and 39% people with lower salary\n",
      "Best: avg change per month: 108 cost: -12632 M/year and 37% people with lower salary\n",
      "Best: avg change per month: 108 cost: -12669 M/year and 39% people with lower salary\n",
      "Best: avg change per month: 108 cost: -12760 M/year and 39% people with lower salary\n",
      "Best: avg change per month: 108 cost: -12709 M/year and 39% people with lower salary\n",
      "Best: avg change per month: 108 cost: -12685 M/year and 39% people with lower salary\n",
      "Best: avg change per month: 108 cost: -12748 M/year and 39% people with lower salary\n",
      "WARNING (module=cma):  condition in coordinate system exceeded 1e8, rescaled to 1\n",
      "Best: avg change per month: 108 cost: -14048 M/year and 37% people with lower salary\n",
      "Best: avg change per month: 108 cost: -12669 M/year and 37% people with lower salary\n",
      "Best: avg change per month: 108 cost: -12929 M/year and 36% people with lower salary\n",
      "Best: avg change per month: 107 cost: -12928 M/year and 39% people with lower salary\n",
      "Best: avg change per month: 108 cost: -12471 M/year and 39% people with lower salary\n",
      "  400   3600 3.704553989178026e+00 1.2e+01 1.78e+02  9e-02  5e+03 1:48.9\n",
      "Best: avg change per month: 107 cost: -12069 M/year and 36% people with lower salary\n",
      "Best: avg change per month: 107 cost: -12006 M/year and 39% people with lower salary\n",
      "Best: avg change per month: 107 cost: -12558 M/year and 39% people with lower salary\n",
      "Best: avg change per month: 107 cost: -12270 M/year and 39% people with lower salary\n",
      "Best: avg change per month: 107 cost: -12274 M/year and 39% people with lower salary\n",
      "Best: avg change per month: 107 cost: -12298 M/year and 39% people with lower salary\n",
      "Best: avg change per month: 107 cost: -12332 M/year and 36% people with lower salary\n",
      "Best: avg change per month: 107 cost: -12296 M/year and 39% people with lower salary\n",
      "Best: avg change per month: 107 cost: -12294 M/year and 36% people with lower salary\n",
      "Best: avg change per month: 107 cost: -12297 M/year and 39% people with lower salary\n",
      "Best: avg change per month: 107 cost: -12313 M/year and 36% people with lower salary\n",
      "Best: avg change per month: 107 cost: -12304 M/year and 39% people with lower salary\n",
      "Best: avg change per month: 107 cost: -12301 M/year and 36% people with lower salary\n",
      "Best: avg change per month: 107 cost: -12307 M/year and 39% people with lower salary\n",
      "Best: avg change per month: 107 cost: -12303 M/year and 39% people with lower salary\n",
      "Best: avg change per month: 107 cost: -12300 M/year and 39% people with lower salary\n",
      "Best: avg change per month: 107 cost: -12301 M/year and 36% people with lower salary\n",
      "Best: avg change per month: 107 cost: -12301 M/year and 36% people with lower salary\n",
      "Best: avg change per month: 107 cost: -12301 M/year and 36% people with lower salary\n",
      "Best: avg change per month: 107 cost: -12301 M/year and 36% people with lower salary\n",
      "Best: avg change per month: 107 cost: -12301 M/year and 36% people with lower salary\n"
     ]
    }
   ],
   "source": [
    "reform = Reform(\n",
    "    population=population,\n",
    "    target_variable='revdisp',\n",
    "    taxable_variable='taxable_variable',\n",
    "\n",
    "    # Constraints\n",
    "    max_cost=0,\n",
    "    benefits_constraints=[\n",
    "        'per_child',\n",
    "        'per_declarant_above_65',\n",
    "        'if_one_declarant_above_24_or_has_children',\n",
    "        ],\n",
    "    taxes_constraints=[\n",
    "        'anyone',\n",
    "        'per_child',\n",
    "        ],\n",
    "    tax_threshold_constraints=[\n",
    "        'anyone',\n",
    "        'per_child'\n",
    "        ],\n",
    "    max_evals=5000\n",
    "    )"
   ]
  },
  {
   "cell_type": "code",
   "execution_count": null,
   "metadata": {
    "collapsed": false
   },
   "outputs": [],
   "source": [
    "reform.show_stats()"
   ]
  },
  {
   "cell_type": "code",
   "execution_count": null,
   "metadata": {
    "collapsed": false
   },
   "outputs": [],
   "source": [
    "reform.draw_ginis()"
   ]
  },
  {
   "cell_type": "code",
   "execution_count": null,
   "metadata": {
    "collapsed": false
   },
   "outputs": [],
   "source": [
    "reform.show_constraints_value('benefit')"
   ]
  },
  {
   "cell_type": "code",
   "execution_count": null,
   "metadata": {
    "collapsed": true
   },
   "outputs": [],
   "source": [
    "reform.show_constraints_value('tax_rate')"
   ]
  },
  {
   "cell_type": "code",
   "execution_count": null,
   "metadata": {
    "collapsed": true
   },
   "outputs": [],
   "source": [
    "reform.show_constraints_value('tax_threshold')"
   ]
  },
  {
   "cell_type": "code",
   "execution_count": null,
   "metadata": {
    "collapsed": false
   },
   "outputs": [],
   "source": [
    "new_pop = copy.deepcopy(population._population)\n",
    "\n",
    "for i in range(len(new_pop)):\n",
    "    new_pop[i]['reform'] = reform.simulated_results[i] \n",
    "\n",
    "def plot_for_population(pop):\n",
    "    revenu_imposable = list(family['taxable_variable'] for family in pop)\n",
    "    revdisp = list(family['revdisp'] for family in pop)\n",
    "    reform = list(family['reform'] for family in pop)\n",
    "\n",
    "    multi_scatter('Revenu disponible for different people before / after reforme', 'Revenu initial', 'Revenu disponible', [\n",
    "                  {'x':revenu_imposable, 'y':reform, 'label':'Reform', 'color':'blue'},\n",
    "                  {'x':revenu_imposable, 'y':revdisp, 'label':'Original', 'color':'red'},\n",
    "              ])"
   ]
  },
  {
   "cell_type": "code",
   "execution_count": null,
   "metadata": {
    "collapsed": false
   },
   "outputs": [],
   "source": [
    "un_enfant_pop = list(filter(lambda x: x.get('per_child', 0) == 0\n",
    "                                  and x.get('age_dec_1', 0) < 65\n",
    "                                  and x.get('age_dec_2', 0) < 65,\n",
    "                            new_pop))\n",
    "\n",
    "plot_for_population(un_enfant_pop)"
   ]
  },
  {
   "cell_type": "markdown",
   "metadata": {},
   "source": [
    "# Plots revenu disponible after reform"
   ]
  },
  {
   "cell_type": "code",
   "execution_count": null,
   "metadata": {
    "collapsed": false
   },
   "outputs": [],
   "source": [
    "xmin = 0\n",
    "xmax = 60000\n",
    "nb_buckets = 35\n",
    "\n",
    "bins = np.linspace(xmin, xmax, nb_buckets)\n",
    "\n",
    "plt.hist(revdisp, bins, alpha=0.5, label='current')\n",
    "plt.hist(reform.simulated_results, bins, alpha=0.5, label='reform')\n",
    "plt.legend(loc='upper right')\n",
    "plt.show()"
   ]
  },
  {
   "cell_type": "markdown",
   "metadata": {},
   "source": [
    "# Distribution of the changes in revenu in euros"
   ]
  },
  {
   "cell_type": "code",
   "execution_count": null,
   "metadata": {
    "collapsed": false
   },
   "outputs": [],
   "source": [
    "difference = list(reform.simulated_results[i] - revdisp[i] for i in range(len(reform.simulated_results)))\n",
    "\n",
    "show_histogram(difference, 'Changes in revenu')"
   ]
  },
  {
   "cell_type": "markdown",
   "metadata": {},
   "source": [
    "# Distribution of the change in revenu in percentage"
   ]
  },
  {
   "cell_type": "code",
   "execution_count": null,
   "metadata": {
    "collapsed": false
   },
   "outputs": [],
   "source": [
    "percentage_difference = list(100 * percent_diff(reform.simulated_results[i], revdisp[i]) for i in range(len(reform.simulated_results)))\n",
    "\n",
    "show_histogram(percentage_difference, 'Changes in revenu')"
   ]
  },
  {
   "cell_type": "markdown",
   "metadata": {},
   "source": [
    "# Change as a function of the number of children"
   ]
  },
  {
   "cell_type": "code",
   "execution_count": null,
   "metadata": {
    "collapsed": false,
    "scrolled": true
   },
   "outputs": [],
   "source": [
    "nb_children = list((population._population[i].get('per_child', 0)  for i in range(len(population._population)))) \n",
    "\n",
    "scatter_plot(nb_children, difference, 'Children', 'Difference reform - current', alpha=0.05)"
   ]
  },
  {
   "cell_type": "markdown",
   "metadata": {},
   "source": [
    "# Change as a function of the age of declarant 1\n",
    "\n",
    "A scatter plot is better than a thousand points #ChineseProverb"
   ]
  },
  {
   "cell_type": "code",
   "execution_count": null,
   "metadata": {
    "collapsed": false
   },
   "outputs": [],
   "source": [
    "age_dec1 = list((population._population[i].get('age_dec_1', 0)  for i in range(len(population._population)))) \n",
    "\n",
    "scatter_plot(age_dec1, difference, 'Age declarant 1', 'Difference reform - current', alpha=0.1)"
   ]
  },
  {
   "cell_type": "markdown",
   "metadata": {},
   "source": [
    "# <font color=\"blue\">Most important: Edge Cases</font>\n",
    "\n",
    "This is the heart of this tool: by seeing the worse cases, you can discover when the current legislation is smarter than yours (or the other way), and improve it further"
   ]
  },
  {
   "cell_type": "code",
   "execution_count": null,
   "metadata": {
    "collapsed": false
   },
   "outputs": [],
   "source": [
    "\n",
    "order = sorted(range(len(reform.simulated_results)), key=lambda k: -(reform.simulated_results[k] - revdisp[k]))\n",
    "\n",
    "data = {}\n",
    "\n",
    "possible_keys = set()\n",
    "for i in order:\n",
    "    for key in population._raw_population[i]:\n",
    "        if key != 'year':\n",
    "            possible_keys.add(key)\n",
    "\n",
    "for i in order:\n",
    "    # Adding the diff with the reform.\n",
    "    differences = data.get('difference', [])\n",
    "    differences.append(int(reform.simulated_results[i] - revdisp[i]))\n",
    "    data['difference'] = differences\n",
    "\n",
    "    for key in possible_keys:\n",
    "        new_vals = data.get(key, [])\n",
    "        value = population._raw_population[i].get(key, '')\n",
    "        if type(value) == float:\n",
    "            value = int(value)\n",
    "        new_vals.append(value)\n",
    "        data[key] = new_vals\n",
    "\n",
    "    # Adding reformed line.\n",
    "    reforms = data.get('reform', [])\n",
    "    reforms.append(int(reform.simulated_results[i]))\n",
    "    data['reform'] = reforms\n",
    "\n",
    "df = pd.DataFrame(data=data)\n",
    "df.set_index('difference', inplace=True)\n",
    "qgrid.show_grid(df)\n"
   ]
  }
 ],
 "metadata": {
  "kernelspec": {
   "display_name": "Python 2",
   "language": "python",
   "name": "python2"
  },
  "language_info": {
   "codemirror_mode": {
    "name": "ipython",
    "version": 2
   },
   "file_extension": ".py",
   "mimetype": "text/x-python",
   "name": "python",
   "nbconvert_exporter": "python",
   "pygments_lexer": "ipython2",
   "version": "2.7.12+"
  }
 },
 "nbformat": 4,
 "nbformat_minor": 0
}
